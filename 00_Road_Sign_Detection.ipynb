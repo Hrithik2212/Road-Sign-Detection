{
  "nbformat": 4,
  "nbformat_minor": 0,
  "metadata": {
    "colab": {
      "provenance": [],
      "toc_visible": true,
      "authorship_tag": "ABX9TyMHVvmMiNQIyKYTipEGuA5C",
      "include_colab_link": true
    },
    "kernelspec": {
      "name": "python3",
      "display_name": "Python 3"
    },
    "language_info": {
      "name": "python"
    },
    "accelerator": "GPU",
    "gpuClass": "standard"
  },
  "cells": [
    {
      "cell_type": "markdown",
      "metadata": {
        "id": "view-in-github",
        "colab_type": "text"
      },
      "source": [
        "<a href=\"https://colab.research.google.com/github/Hrithik2212/Road-Sign-Detection/blob/main/00_Road_Sign_Detection.ipynb\" target=\"_parent\"><img src=\"https://colab.research.google.com/assets/colab-badge.svg\" alt=\"Open In Colab\"/></a>"
      ]
    },
    {
      "cell_type": "markdown",
      "source": [
        "# Road Sign Detection \n"
      ],
      "metadata": {
        "id": "SEq0yyKJLdSo"
      }
    },
    {
      "cell_type": "markdown",
      "source": [
        "## Data Wrangling "
      ],
      "metadata": {
        "id": "bHL_l3MfL2UH"
      }
    },
    {
      "cell_type": "code",
      "source": [
        "import os\n",
        "if not os.path.exists('GTSRB'):\n",
        "    !pip install -U -q torch_snippets\n",
        "    !wget -qq https://sid.erda.dk/public/archives/daaeac0d7ce1152aea9b61d9f1e19370/GTSRB_Final_Training_Images.zip\n",
        "    !wget -qq https://sid.erda.dk/public/archives/daaeac0d7ce1152aea9b61d9f1e19370/GTSRB_Final_Test_Images.zip\n",
        "    !unzip -qq GTSRB_Final_Training_Images.zip\n",
        "    !unzip -qq GTSRB_Final_Test_Images.zip\n",
        "    !wget https://raw.githubusercontent.com/georgesung/traffic_sign_classification_german/master/signnames.csv\n",
        "    !rm GTSRB_Final_Training_Images.zip GTSRB_Final_Test_Images.zip    "
      ],
      "metadata": {
        "id": "pJ4214s1LiPl"
      },
      "execution_count": 28,
      "outputs": []
    },
    {
      "cell_type": "markdown",
      "source": [
        "## Data Exploration and Preparation "
      ],
      "metadata": {
        "id": "sGODYKCANtOw"
      }
    },
    {
      "cell_type": "code",
      "source": [
        "from torch_snippets import *\n",
        "classIds = pd.read_csv('signnames.csv')\n",
        "classIds.head()"
      ],
      "metadata": {
        "colab": {
          "base_uri": "https://localhost:8080/",
          "height": 206
        },
        "id": "w5k14YdrL5Jr",
        "outputId": "bbafffc6-add3-43bc-d3e5-237a1e8469a8"
      },
      "execution_count": 29,
      "outputs": [
        {
          "output_type": "execute_result",
          "data": {
            "text/plain": [
              "   ClassId              SignName\n",
              "0        0  Speed limit (20km/h)\n",
              "1        1  Speed limit (30km/h)\n",
              "2        2  Speed limit (50km/h)\n",
              "3        3  Speed limit (60km/h)\n",
              "4        4  Speed limit (70km/h)"
            ],
            "text/html": [
              "\n",
              "  <div id=\"df-95bf8956-4995-4e18-bad8-406097a00c5a\">\n",
              "    <div class=\"colab-df-container\">\n",
              "      <div>\n",
              "<style scoped>\n",
              "    .dataframe tbody tr th:only-of-type {\n",
              "        vertical-align: middle;\n",
              "    }\n",
              "\n",
              "    .dataframe tbody tr th {\n",
              "        vertical-align: top;\n",
              "    }\n",
              "\n",
              "    .dataframe thead th {\n",
              "        text-align: right;\n",
              "    }\n",
              "</style>\n",
              "<table border=\"1\" class=\"dataframe\">\n",
              "  <thead>\n",
              "    <tr style=\"text-align: right;\">\n",
              "      <th></th>\n",
              "      <th>ClassId</th>\n",
              "      <th>SignName</th>\n",
              "    </tr>\n",
              "  </thead>\n",
              "  <tbody>\n",
              "    <tr>\n",
              "      <th>0</th>\n",
              "      <td>0</td>\n",
              "      <td>Speed limit (20km/h)</td>\n",
              "    </tr>\n",
              "    <tr>\n",
              "      <th>1</th>\n",
              "      <td>1</td>\n",
              "      <td>Speed limit (30km/h)</td>\n",
              "    </tr>\n",
              "    <tr>\n",
              "      <th>2</th>\n",
              "      <td>2</td>\n",
              "      <td>Speed limit (50km/h)</td>\n",
              "    </tr>\n",
              "    <tr>\n",
              "      <th>3</th>\n",
              "      <td>3</td>\n",
              "      <td>Speed limit (60km/h)</td>\n",
              "    </tr>\n",
              "    <tr>\n",
              "      <th>4</th>\n",
              "      <td>4</td>\n",
              "      <td>Speed limit (70km/h)</td>\n",
              "    </tr>\n",
              "  </tbody>\n",
              "</table>\n",
              "</div>\n",
              "      <button class=\"colab-df-convert\" onclick=\"convertToInteractive('df-95bf8956-4995-4e18-bad8-406097a00c5a')\"\n",
              "              title=\"Convert this dataframe to an interactive table.\"\n",
              "              style=\"display:none;\">\n",
              "        \n",
              "  <svg xmlns=\"http://www.w3.org/2000/svg\" height=\"24px\"viewBox=\"0 0 24 24\"\n",
              "       width=\"24px\">\n",
              "    <path d=\"M0 0h24v24H0V0z\" fill=\"none\"/>\n",
              "    <path d=\"M18.56 5.44l.94 2.06.94-2.06 2.06-.94-2.06-.94-.94-2.06-.94 2.06-2.06.94zm-11 1L8.5 8.5l.94-2.06 2.06-.94-2.06-.94L8.5 2.5l-.94 2.06-2.06.94zm10 10l.94 2.06.94-2.06 2.06-.94-2.06-.94-.94-2.06-.94 2.06-2.06.94z\"/><path d=\"M17.41 7.96l-1.37-1.37c-.4-.4-.92-.59-1.43-.59-.52 0-1.04.2-1.43.59L10.3 9.45l-7.72 7.72c-.78.78-.78 2.05 0 2.83L4 21.41c.39.39.9.59 1.41.59.51 0 1.02-.2 1.41-.59l7.78-7.78 2.81-2.81c.8-.78.8-2.07 0-2.86zM5.41 20L4 18.59l7.72-7.72 1.47 1.35L5.41 20z\"/>\n",
              "  </svg>\n",
              "      </button>\n",
              "      \n",
              "  <style>\n",
              "    .colab-df-container {\n",
              "      display:flex;\n",
              "      flex-wrap:wrap;\n",
              "      gap: 12px;\n",
              "    }\n",
              "\n",
              "    .colab-df-convert {\n",
              "      background-color: #E8F0FE;\n",
              "      border: none;\n",
              "      border-radius: 50%;\n",
              "      cursor: pointer;\n",
              "      display: none;\n",
              "      fill: #1967D2;\n",
              "      height: 32px;\n",
              "      padding: 0 0 0 0;\n",
              "      width: 32px;\n",
              "    }\n",
              "\n",
              "    .colab-df-convert:hover {\n",
              "      background-color: #E2EBFA;\n",
              "      box-shadow: 0px 1px 2px rgba(60, 64, 67, 0.3), 0px 1px 3px 1px rgba(60, 64, 67, 0.15);\n",
              "      fill: #174EA6;\n",
              "    }\n",
              "\n",
              "    [theme=dark] .colab-df-convert {\n",
              "      background-color: #3B4455;\n",
              "      fill: #D2E3FC;\n",
              "    }\n",
              "\n",
              "    [theme=dark] .colab-df-convert:hover {\n",
              "      background-color: #434B5C;\n",
              "      box-shadow: 0px 1px 3px 1px rgba(0, 0, 0, 0.15);\n",
              "      filter: drop-shadow(0px 1px 2px rgba(0, 0, 0, 0.3));\n",
              "      fill: #FFFFFF;\n",
              "    }\n",
              "  </style>\n",
              "\n",
              "      <script>\n",
              "        const buttonEl =\n",
              "          document.querySelector('#df-95bf8956-4995-4e18-bad8-406097a00c5a button.colab-df-convert');\n",
              "        buttonEl.style.display =\n",
              "          google.colab.kernel.accessAllowed ? 'block' : 'none';\n",
              "\n",
              "        async function convertToInteractive(key) {\n",
              "          const element = document.querySelector('#df-95bf8956-4995-4e18-bad8-406097a00c5a');\n",
              "          const dataTable =\n",
              "            await google.colab.kernel.invokeFunction('convertToInteractive',\n",
              "                                                     [key], {});\n",
              "          if (!dataTable) return;\n",
              "\n",
              "          const docLinkHtml = 'Like what you see? Visit the ' +\n",
              "            '<a target=\"_blank\" href=https://colab.research.google.com/notebooks/data_table.ipynb>data table notebook</a>'\n",
              "            + ' to learn more about interactive tables.';\n",
              "          element.innerHTML = '';\n",
              "          dataTable['output_type'] = 'display_data';\n",
              "          await google.colab.output.renderOutput(dataTable, element);\n",
              "          const docLink = document.createElement('div');\n",
              "          docLink.innerHTML = docLinkHtml;\n",
              "          element.appendChild(docLink);\n",
              "        }\n",
              "      </script>\n",
              "    </div>\n",
              "  </div>\n",
              "  "
            ]
          },
          "metadata": {},
          "execution_count": 29
        }
      ]
    },
    {
      "cell_type": "code",
      "source": [
        "classIds.set_index('ClassId',inplace=True)\n",
        "classIds = classIds.to_dict()['SignName']\n",
        "classIds = {f'{k}':v for k,v in classIds.items()}\n",
        "id2int = {v:ix for ix,(k,v) in enumerate(classIds.items())}"
      ],
      "metadata": {
        "id": "9i04X6KMMnHc"
      },
      "execution_count": 30,
      "outputs": []
    },
    {
      "cell_type": "code",
      "source": [
        "classIds"
      ],
      "metadata": {
        "colab": {
          "base_uri": "https://localhost:8080/"
        },
        "id": "PWb1wodTNV1q",
        "outputId": "5fa05fa2-fbbb-4417-eef0-6b937f238af0"
      },
      "execution_count": 31,
      "outputs": [
        {
          "output_type": "execute_result",
          "data": {
            "text/plain": [
              "{'0': 'Speed limit (20km/h)',\n",
              " '1': 'Speed limit (30km/h)',\n",
              " '2': 'Speed limit (50km/h)',\n",
              " '3': 'Speed limit (60km/h)',\n",
              " '4': 'Speed limit (70km/h)',\n",
              " '5': 'Speed limit (80km/h)',\n",
              " '6': 'End of speed limit (80km/h)',\n",
              " '7': 'Speed limit (100km/h)',\n",
              " '8': 'Speed limit (120km/h)',\n",
              " '9': 'No passing',\n",
              " '10': 'No passing for vechiles over 3.5 metric tons',\n",
              " '11': 'Right-of-way at the next intersection',\n",
              " '12': 'Priority road',\n",
              " '13': 'Yield',\n",
              " '14': 'Stop',\n",
              " '15': 'No vechiles',\n",
              " '16': 'Vechiles over 3.5 metric tons prohibited',\n",
              " '17': 'No entry',\n",
              " '18': 'General caution',\n",
              " '19': 'Dangerous curve to the left',\n",
              " '20': 'Dangerous curve to the right',\n",
              " '21': 'Double curve',\n",
              " '22': 'Bumpy road',\n",
              " '23': 'Slippery road',\n",
              " '24': 'Road narrows on the right',\n",
              " '25': 'Road work',\n",
              " '26': 'Traffic signals',\n",
              " '27': 'Pedestrians',\n",
              " '28': 'Children crossing',\n",
              " '29': 'Bicycles crossing',\n",
              " '30': 'Beware of ice/snow',\n",
              " '31': 'Wild animals crossing',\n",
              " '32': 'End of all speed and passing limits',\n",
              " '33': 'Turn right ahead',\n",
              " '34': 'Turn left ahead',\n",
              " '35': 'Ahead only',\n",
              " '36': 'Go straight or right',\n",
              " '37': 'Go straight or left',\n",
              " '38': 'Keep right',\n",
              " '39': 'Keep left',\n",
              " '40': 'Roundabout mandatory',\n",
              " '41': 'End of no passing',\n",
              " '42': 'End of no passing by vechiles over 3.5 metric tons'}"
            ]
          },
          "metadata": {},
          "execution_count": 31
        }
      ]
    },
    {
      "cell_type": "code",
      "source": [
        "from torchvision.transforms.transforms import ColorJitter\n",
        "from torchvision import transforms as T\n",
        "\n",
        "trn_tfms = T.Compose([\n",
        "            T.ToPILImage(),\n",
        "            T.Resize(32),\n",
        "            T.CenterCrop(32),\n",
        "            T.ColorJitter(brightness = (0.8,1.2),\n",
        "                          contrast = (0.8,1.2),\n",
        "                          hue = 0.25),\n",
        "            T.RandomAffine(5,translate=(0.01,0.1)),\n",
        "            T.ToTensor(),\n",
        "            T.Normalize(mean=[0.485 , 0.456 , 0.406],\n",
        "                        std = [0.229,0.224,0.225])\n",
        "            ])\n",
        "\n",
        "val_tfms = T.Compose([\n",
        "                      T.ToPILImage(),\n",
        "                      T.Resize(32),\n",
        "                      T.CenterCrop(32),\n",
        "                      T.ToTensor(),\n",
        "                      T.Normalize(mean=[0.485 , 0.456 , 0.406],\n",
        "                        std = [0.229,0.224,0.225])\n",
        "])"
      ],
      "metadata": {
        "id": "bZ76rUrDNmAy"
      },
      "execution_count": 32,
      "outputs": []
    },
    {
      "cell_type": "code",
      "source": [
        "class GTSRB(Dataset):\n",
        "  def __init__(self , files , transform = None):\n",
        "    self.files = files\n",
        "    self.transform = transform\n",
        "    logger.info(len(self))\n",
        "  \n",
        "  def __len__(self):\n",
        "    return len(self.files)\n",
        "\n",
        "  def __getitem__(self , ix):\n",
        "    fpath = self.files[ix]\n",
        "    clss = str(int(fname(parent(fpath))))\n",
        "    img = read(fpath , 1)\n",
        "    return img , classIds[clss]\n",
        "\n",
        "  def choose(self):\n",
        "    return self[randint(len(self))]\n",
        "\n",
        "  def collate_fn(self, batch):\n",
        "        imgs, classes = list(zip(*batch))\n",
        "        if self.transform:\n",
        "            imgs = [self.transform(img)[None] for img in imgs]\n",
        "        classes = [torch.tensor([id2int[clss]]) for clss in classes]\n",
        "        imgs, classes = [torch.cat(i).to(device) for i in [imgs, classes]]\n",
        "        return imgs, classes\n",
        "\n",
        "device = 'cuda' if torch.cuda.is_available() else 'cpu'\n",
        "all_files = Glob('/content/GTSRB/Final_Training/*/*/*.ppm')\n",
        "np.random.seed(10)\n",
        "np.random.shuffle(all_files)\n",
        "\n",
        "from sklearn.model_selection import train_test_split \n",
        "trn_files , val_files = train_test_split(all_files ,random_state=1)\n",
        "\n",
        "train_ds = GTSRB(trn_files , transform = trn_tfms)\n",
        "val_ds = GTSRB(val_files , transform =  val_tfms)\n",
        "train_dl = DataLoader(train_ds , 32  ,shuffle=True , collate_fn = train_ds.collate_fn)\n",
        "val_dl = DataLoader(val_ds , 32  ,shuffle=False , collate_fn = train_ds.collate_fn)"
      ],
      "metadata": {
        "colab": {
          "base_uri": "https://localhost:8080/",
          "height": 51
        },
        "id": "m7mmrA4kQA8s",
        "outputId": "24df8aa3-e697-46d4-f89b-27c1e9a867eb"
      },
      "execution_count": 56,
      "outputs": [
        {
          "output_type": "display_data",
          "data": {
            "text/plain": [
              "\u001b[2;36m[09/10/22 05:41:33]\u001b[0m\u001b[2;36m \u001b[0m\u001b[2;33mINFO    \u001b[0m \u001b[1;36m29406\u001b[0m                                       \u001b]8;id=423080;file://<ipython-input-56-20bbfa2756fd>\u001b\\\u001b[2m<ipython-input-56-20bbfa2756fd>\u001b[0m\u001b]8;;\u001b\\\u001b[2m:\u001b[0m\u001b]8;id=95904;file://<ipython-input-56-20bbfa2756fd>#__init__:5\u001b\\\u001b[2m__init__:5\u001b[0m\u001b]8;;\u001b\\\n"
            ],
            "text/html": [
              "<pre style=\"white-space:pre;overflow-x:auto;line-height:normal;font-family:Menlo,'DejaVu Sans Mono',consolas,'Courier New',monospace\"><span style=\"color: #7fbfbf; text-decoration-color: #7fbfbf\">[09/10/22 05:41:33] </span><span style=\"color: #bfbf7f; text-decoration-color: #bfbf7f\">INFO    </span> <span style=\"color: #008080; text-decoration-color: #008080; font-weight: bold\">29406</span>                                       <a href=\"file://<ipython-input-56-20bbfa2756fd>\" target=\"_blank\"><span style=\"color: #7f7f7f; text-decoration-color: #7f7f7f\">&lt;ipython-input-56-20bbfa2756fd&gt;</span></a><span style=\"color: #7f7f7f; text-decoration-color: #7f7f7f\">:</span><a href=\"file://<ipython-input-56-20bbfa2756fd>#__init__:5\" target=\"_blank\"><span style=\"color: #7f7f7f; text-decoration-color: #7f7f7f\">__init__:5</span></a>\n",
              "</pre>\n"
            ]
          },
          "metadata": {}
        },
        {
          "output_type": "display_data",
          "data": {
            "text/plain": [
              "\u001b[2;36m                   \u001b[0m\u001b[2;36m \u001b[0m\u001b[2;33mINFO    \u001b[0m \u001b[1;36m9803\u001b[0m                                        \u001b]8;id=550107;file://<ipython-input-56-20bbfa2756fd>\u001b\\\u001b[2m<ipython-input-56-20bbfa2756fd>\u001b[0m\u001b]8;;\u001b\\\u001b[2m:\u001b[0m\u001b]8;id=442051;file://<ipython-input-56-20bbfa2756fd>#__init__:5\u001b\\\u001b[2m__init__:5\u001b[0m\u001b]8;;\u001b\\\n"
            ],
            "text/html": [
              "<pre style=\"white-space:pre;overflow-x:auto;line-height:normal;font-family:Menlo,'DejaVu Sans Mono',consolas,'Courier New',monospace\"><span style=\"color: #7fbfbf; text-decoration-color: #7fbfbf\">                    </span><span style=\"color: #bfbf7f; text-decoration-color: #bfbf7f\">INFO    </span> <span style=\"color: #008080; text-decoration-color: #008080; font-weight: bold\">9803</span>                                        <a href=\"file://<ipython-input-56-20bbfa2756fd>\" target=\"_blank\"><span style=\"color: #7f7f7f; text-decoration-color: #7f7f7f\">&lt;ipython-input-56-20bbfa2756fd&gt;</span></a><span style=\"color: #7f7f7f; text-decoration-color: #7f7f7f\">:</span><a href=\"file://<ipython-input-56-20bbfa2756fd>#__init__:5\" target=\"_blank\"><span style=\"color: #7f7f7f; text-decoration-color: #7f7f7f\">__init__:5</span></a>\n",
              "</pre>\n"
            ]
          },
          "metadata": {}
        }
      ]
    },
    {
      "cell_type": "code",
      "source": [
        "len(all_files)"
      ],
      "metadata": {
        "colab": {
          "base_uri": "https://localhost:8080/"
        },
        "id": "2zp6EvX3Zv0B",
        "outputId": "ee29523b-f027-4ae8-c4c1-26dac5fc2d0e"
      },
      "execution_count": 43,
      "outputs": [
        {
          "output_type": "execute_result",
          "data": {
            "text/plain": [
              "39209"
            ]
          },
          "metadata": {},
          "execution_count": 43
        }
      ]
    },
    {
      "cell_type": "markdown",
      "source": [
        "## Model Building "
      ],
      "metadata": {
        "id": "jJEihzUZfs77"
      }
    },
    {
      "cell_type": "code",
      "source": [
        "def conv_block(ni,no):\n",
        "  return  nn.Sequential(\n",
        "      nn.Dropout(0.2),\n",
        "      nn.Conv2d(ni,no,kernel_size = 3,padding = 1),\n",
        "      nn.ReLU(),\n",
        "      nn.MaxPool2d(2),\n",
        "  )\n",
        "\n",
        "class SignClassifier(nn.Module):\n",
        "  def __init__(self):\n",
        "    super().__init__()\n",
        "    self.model = nn.Sequential(\n",
        "                        conv_block(3,64),\n",
        "                        conv_block(64,64),\n",
        "                        conv_block(64,128),\n",
        "                        conv_block(128,64),\n",
        "                        nn.Flatten(),\n",
        "                        nn.Linear(256,256),\n",
        "                        nn.Dropout(0.2),\n",
        "                        nn.ReLU(),\n",
        "                        nn.Linear(256 , len(id2int)))\n",
        "    self.loss_fn = nn.CrossEntropyLoss()\n",
        "  \n",
        "  def forward(self , x ):\n",
        "    return self.model(x)\n",
        "\n",
        "  def compute_metrics(self, preds , targets):\n",
        "    ce_loss = self.loss_fn(preds , targets)\n",
        "    acc  = (torch.max(preds,1)[1]==targets).float().mean()\n",
        "    return ce_loss , acc "
      ],
      "metadata": {
        "id": "zAnUfldWXhrf"
      },
      "execution_count": 47,
      "outputs": []
    },
    {
      "cell_type": "code",
      "source": [
        "def train_batch(model, data, optimizer, criterion):\n",
        "    ims, labels = data\n",
        "    _preds = model(ims)\n",
        "    optimizer.zero_grad()\n",
        "    loss, acc = criterion(_preds, labels)\n",
        "    loss.backward()\n",
        "    optimizer.step()\n",
        "    return loss.item(), acc.item()\n",
        "\n",
        "@torch.no_grad()\n",
        "def validate_batch(model, data, criterion):\n",
        "    ims, labels = data\n",
        "    _preds = model(ims)\n",
        "    loss, acc = criterion(_preds, labels)\n",
        "    return loss.item(), acc.item()"
      ],
      "metadata": {
        "id": "1zpMA65Xi5rd"
      },
      "execution_count": 48,
      "outputs": []
    },
    {
      "cell_type": "code",
      "source": [
        "device"
      ],
      "metadata": {
        "colab": {
          "base_uri": "https://localhost:8080/",
          "height": 35
        },
        "id": "QzpigXx3jEuj",
        "outputId": "08cfa4e1-d64b-4449-aa23-8b6af43b3664"
      },
      "execution_count": 57,
      "outputs": [
        {
          "output_type": "execute_result",
          "data": {
            "text/plain": [
              "'cuda'"
            ],
            "application/vnd.google.colaboratory.intrinsic+json": {
              "type": "string"
            }
          },
          "metadata": {},
          "execution_count": 57
        }
      ]
    },
    {
      "cell_type": "code",
      "source": [
        "model = SignClassifier().to(device)\n",
        "criterion = model.compute_metrics\n",
        "optimizer = optim.Adam(model.parameters(), lr=1e-3)"
      ],
      "metadata": {
        "id": "lXeTzFrbjH_w"
      },
      "execution_count": 58,
      "outputs": []
    },
    {
      "cell_type": "code",
      "source": [
        "from torchsummary import summary\n",
        "summary(model , (3,32,32))"
      ],
      "metadata": {
        "colab": {
          "base_uri": "https://localhost:8080/"
        },
        "id": "toHZsDAzjl91",
        "outputId": "a1e826b3-53fe-4d6f-b9f3-8cf6d495ef6f"
      },
      "execution_count": 94,
      "outputs": [
        {
          "output_type": "stream",
          "name": "stdout",
          "text": [
            "----------------------------------------------------------------\n",
            "        Layer (type)               Output Shape         Param #\n",
            "================================================================\n",
            "           Dropout-1            [-1, 3, 32, 32]               0\n",
            "            Conv2d-2           [-1, 64, 32, 32]           1,792\n",
            "              ReLU-3           [-1, 64, 32, 32]               0\n",
            "         MaxPool2d-4           [-1, 64, 16, 16]               0\n",
            "           Dropout-5           [-1, 64, 16, 16]               0\n",
            "            Conv2d-6           [-1, 64, 16, 16]          36,928\n",
            "              ReLU-7           [-1, 64, 16, 16]               0\n",
            "         MaxPool2d-8             [-1, 64, 8, 8]               0\n",
            "           Dropout-9             [-1, 64, 8, 8]               0\n",
            "           Conv2d-10            [-1, 128, 8, 8]          73,856\n",
            "             ReLU-11            [-1, 128, 8, 8]               0\n",
            "        MaxPool2d-12            [-1, 128, 4, 4]               0\n",
            "          Dropout-13            [-1, 128, 4, 4]               0\n",
            "           Conv2d-14             [-1, 64, 4, 4]          73,792\n",
            "             ReLU-15             [-1, 64, 4, 4]               0\n",
            "        MaxPool2d-16             [-1, 64, 2, 2]               0\n",
            "          Flatten-17                  [-1, 256]               0\n",
            "           Linear-18                  [-1, 256]          65,792\n",
            "          Dropout-19                  [-1, 256]               0\n",
            "             ReLU-20                  [-1, 256]               0\n",
            "           Linear-21                   [-1, 43]          11,051\n",
            "================================================================\n",
            "Total params: 263,211\n",
            "Trainable params: 263,211\n",
            "Non-trainable params: 0\n",
            "----------------------------------------------------------------\n",
            "Input size (MB): 0.01\n",
            "Forward/backward pass size (MB): 1.77\n",
            "Params size (MB): 1.00\n",
            "Estimated Total Size (MB): 2.78\n",
            "----------------------------------------------------------------\n"
          ]
        }
      ]
    },
    {
      "cell_type": "code",
      "source": [
        "EPOCHS = 25 \n",
        "train_loss , val_loss = [] , [] \n",
        "train_acc , val_acc = [] , []\n",
        "for epoch in range(EPOCHS):\n",
        "  print(f'EPOCH {epoch+1}')\n",
        "  epoch_loss , epoch_acc = [] , []\n",
        "  evl , eva = [] , [] \n",
        "  for bx , data in enumerate(train_dl):\n",
        "    tloss , tacc = train_batch(model , data , optimizer , criterion)\n",
        "    epoch_loss.append(tloss) , epoch_acc.append(tacc)\n",
        "  train_loss.append(np.mean(epoch_loss)) , train_acc.append(np.mean(epoch_acc))\n",
        "\n",
        "  for bx , data in enumerate(val_dl):\n",
        "    vloss , vacc = validate_batch(model,data,criterion) \n",
        "    evl.append(vloss) , eva.append(vacc)\n",
        "  val_loss.append(np.mean(evl)) , val_acc.append(np.mean(eva))\n",
        "\n",
        "  print(f\"Train Loss :{train_loss[epoch]:.4f} | Train Acc :{train_acc[epoch]:.2f} %\" ,end=\" | \")\n",
        "  print(f\"Val Loss :{val_loss[epoch]:.4f} | Val Acc :{val_acc[epoch]:.2f} %\")\n",
        "  print(f\"=======================================Done\")"
      ],
      "metadata": {
        "colab": {
          "base_uri": "https://localhost:8080/",
          "height": 1000
        },
        "id": "mYsRUTN_m53N",
        "outputId": "2cb33993-077c-46ac-ccd3-9ddc446dfde4"
      },
      "execution_count": 60,
      "outputs": [
        {
          "output_type": "display_data",
          "data": {
            "text/plain": [
              "EPOCH \u001b[1;36m1\u001b[0m\n"
            ],
            "text/html": [
              "<pre style=\"white-space:pre;overflow-x:auto;line-height:normal;font-family:Menlo,'DejaVu Sans Mono',consolas,'Courier New',monospace\">EPOCH <span style=\"color: #008080; text-decoration-color: #008080; font-weight: bold\">1</span>\n",
              "</pre>\n"
            ]
          },
          "metadata": {}
        },
        {
          "output_type": "display_data",
          "data": {
            "text/plain": [
              "Train Loss :\u001b[1;36m2.8771\u001b[0m | Train Acc :\u001b[1;36m0.20\u001b[0m % | "
            ],
            "text/html": [
              "<pre style=\"white-space:pre;overflow-x:auto;line-height:normal;font-family:Menlo,'DejaVu Sans Mono',consolas,'Courier New',monospace\">Train Loss :<span style=\"color: #008080; text-decoration-color: #008080; font-weight: bold\">2.8771</span> | Train Acc :<span style=\"color: #008080; text-decoration-color: #008080; font-weight: bold\">0.20</span> % | </pre>\n"
            ]
          },
          "metadata": {}
        },
        {
          "output_type": "display_data",
          "data": {
            "text/plain": [
              "Val Loss :\u001b[1;36m2.0398\u001b[0m | Val Acc :\u001b[1;36m0.36\u001b[0m %\n"
            ],
            "text/html": [
              "<pre style=\"white-space:pre;overflow-x:auto;line-height:normal;font-family:Menlo,'DejaVu Sans Mono',consolas,'Courier New',monospace\">Val Loss :<span style=\"color: #008080; text-decoration-color: #008080; font-weight: bold\">2.0398</span> | Val Acc :<span style=\"color: #008080; text-decoration-color: #008080; font-weight: bold\">0.36</span> %\n",
              "</pre>\n"
            ]
          },
          "metadata": {}
        },
        {
          "output_type": "display_data",
          "data": {
            "text/plain": [
              "=======================================Done\n"
            ],
            "text/html": [
              "<pre style=\"white-space:pre;overflow-x:auto;line-height:normal;font-family:Menlo,'DejaVu Sans Mono',consolas,'Courier New',monospace\">=======================================Done\n",
              "</pre>\n"
            ]
          },
          "metadata": {}
        },
        {
          "output_type": "display_data",
          "data": {
            "text/plain": [
              "EPOCH \u001b[1;36m2\u001b[0m\n"
            ],
            "text/html": [
              "<pre style=\"white-space:pre;overflow-x:auto;line-height:normal;font-family:Menlo,'DejaVu Sans Mono',consolas,'Courier New',monospace\">EPOCH <span style=\"color: #008080; text-decoration-color: #008080; font-weight: bold\">2</span>\n",
              "</pre>\n"
            ]
          },
          "metadata": {}
        },
        {
          "output_type": "display_data",
          "data": {
            "text/plain": [
              "Train Loss :\u001b[1;36m1.6340\u001b[0m | Train Acc :\u001b[1;36m0.49\u001b[0m % | "
            ],
            "text/html": [
              "<pre style=\"white-space:pre;overflow-x:auto;line-height:normal;font-family:Menlo,'DejaVu Sans Mono',consolas,'Courier New',monospace\">Train Loss :<span style=\"color: #008080; text-decoration-color: #008080; font-weight: bold\">1.6340</span> | Train Acc :<span style=\"color: #008080; text-decoration-color: #008080; font-weight: bold\">0.49</span> % | </pre>\n"
            ]
          },
          "metadata": {}
        },
        {
          "output_type": "display_data",
          "data": {
            "text/plain": [
              "Val Loss :\u001b[1;36m1.3610\u001b[0m | Val Acc :\u001b[1;36m0.57\u001b[0m %\n"
            ],
            "text/html": [
              "<pre style=\"white-space:pre;overflow-x:auto;line-height:normal;font-family:Menlo,'DejaVu Sans Mono',consolas,'Courier New',monospace\">Val Loss :<span style=\"color: #008080; text-decoration-color: #008080; font-weight: bold\">1.3610</span> | Val Acc :<span style=\"color: #008080; text-decoration-color: #008080; font-weight: bold\">0.57</span> %\n",
              "</pre>\n"
            ]
          },
          "metadata": {}
        },
        {
          "output_type": "display_data",
          "data": {
            "text/plain": [
              "=======================================Done\n"
            ],
            "text/html": [
              "<pre style=\"white-space:pre;overflow-x:auto;line-height:normal;font-family:Menlo,'DejaVu Sans Mono',consolas,'Courier New',monospace\">=======================================Done\n",
              "</pre>\n"
            ]
          },
          "metadata": {}
        },
        {
          "output_type": "display_data",
          "data": {
            "text/plain": [
              "EPOCH \u001b[1;36m3\u001b[0m\n"
            ],
            "text/html": [
              "<pre style=\"white-space:pre;overflow-x:auto;line-height:normal;font-family:Menlo,'DejaVu Sans Mono',consolas,'Courier New',monospace\">EPOCH <span style=\"color: #008080; text-decoration-color: #008080; font-weight: bold\">3</span>\n",
              "</pre>\n"
            ]
          },
          "metadata": {}
        },
        {
          "output_type": "display_data",
          "data": {
            "text/plain": [
              "Train Loss :\u001b[1;36m1.1936\u001b[0m | Train Acc :\u001b[1;36m0.62\u001b[0m % | "
            ],
            "text/html": [
              "<pre style=\"white-space:pre;overflow-x:auto;line-height:normal;font-family:Menlo,'DejaVu Sans Mono',consolas,'Courier New',monospace\">Train Loss :<span style=\"color: #008080; text-decoration-color: #008080; font-weight: bold\">1.1936</span> | Train Acc :<span style=\"color: #008080; text-decoration-color: #008080; font-weight: bold\">0.62</span> % | </pre>\n"
            ]
          },
          "metadata": {}
        },
        {
          "output_type": "display_data",
          "data": {
            "text/plain": [
              "Val Loss :\u001b[1;36m1.0998\u001b[0m | Val Acc :\u001b[1;36m0.65\u001b[0m %\n"
            ],
            "text/html": [
              "<pre style=\"white-space:pre;overflow-x:auto;line-height:normal;font-family:Menlo,'DejaVu Sans Mono',consolas,'Courier New',monospace\">Val Loss :<span style=\"color: #008080; text-decoration-color: #008080; font-weight: bold\">1.0998</span> | Val Acc :<span style=\"color: #008080; text-decoration-color: #008080; font-weight: bold\">0.65</span> %\n",
              "</pre>\n"
            ]
          },
          "metadata": {}
        },
        {
          "output_type": "display_data",
          "data": {
            "text/plain": [
              "=======================================Done\n"
            ],
            "text/html": [
              "<pre style=\"white-space:pre;overflow-x:auto;line-height:normal;font-family:Menlo,'DejaVu Sans Mono',consolas,'Courier New',monospace\">=======================================Done\n",
              "</pre>\n"
            ]
          },
          "metadata": {}
        },
        {
          "output_type": "display_data",
          "data": {
            "text/plain": [
              "EPOCH \u001b[1;36m4\u001b[0m\n"
            ],
            "text/html": [
              "<pre style=\"white-space:pre;overflow-x:auto;line-height:normal;font-family:Menlo,'DejaVu Sans Mono',consolas,'Courier New',monospace\">EPOCH <span style=\"color: #008080; text-decoration-color: #008080; font-weight: bold\">4</span>\n",
              "</pre>\n"
            ]
          },
          "metadata": {}
        },
        {
          "output_type": "display_data",
          "data": {
            "text/plain": [
              "Train Loss :\u001b[1;36m0.9834\u001b[0m | Train Acc :\u001b[1;36m0.69\u001b[0m % | "
            ],
            "text/html": [
              "<pre style=\"white-space:pre;overflow-x:auto;line-height:normal;font-family:Menlo,'DejaVu Sans Mono',consolas,'Courier New',monospace\">Train Loss :<span style=\"color: #008080; text-decoration-color: #008080; font-weight: bold\">0.9834</span> | Train Acc :<span style=\"color: #008080; text-decoration-color: #008080; font-weight: bold\">0.69</span> % | </pre>\n"
            ]
          },
          "metadata": {}
        },
        {
          "output_type": "display_data",
          "data": {
            "text/plain": [
              "Val Loss :\u001b[1;36m0.8887\u001b[0m | Val Acc :\u001b[1;36m0.71\u001b[0m %\n"
            ],
            "text/html": [
              "<pre style=\"white-space:pre;overflow-x:auto;line-height:normal;font-family:Menlo,'DejaVu Sans Mono',consolas,'Courier New',monospace\">Val Loss :<span style=\"color: #008080; text-decoration-color: #008080; font-weight: bold\">0.8887</span> | Val Acc :<span style=\"color: #008080; text-decoration-color: #008080; font-weight: bold\">0.71</span> %\n",
              "</pre>\n"
            ]
          },
          "metadata": {}
        },
        {
          "output_type": "display_data",
          "data": {
            "text/plain": [
              "=======================================Done\n"
            ],
            "text/html": [
              "<pre style=\"white-space:pre;overflow-x:auto;line-height:normal;font-family:Menlo,'DejaVu Sans Mono',consolas,'Courier New',monospace\">=======================================Done\n",
              "</pre>\n"
            ]
          },
          "metadata": {}
        },
        {
          "output_type": "display_data",
          "data": {
            "text/plain": [
              "EPOCH \u001b[1;36m5\u001b[0m\n"
            ],
            "text/html": [
              "<pre style=\"white-space:pre;overflow-x:auto;line-height:normal;font-family:Menlo,'DejaVu Sans Mono',consolas,'Courier New',monospace\">EPOCH <span style=\"color: #008080; text-decoration-color: #008080; font-weight: bold\">5</span>\n",
              "</pre>\n"
            ]
          },
          "metadata": {}
        },
        {
          "output_type": "display_data",
          "data": {
            "text/plain": [
              "Train Loss :\u001b[1;36m0.8602\u001b[0m | Train Acc :\u001b[1;36m0.72\u001b[0m % | "
            ],
            "text/html": [
              "<pre style=\"white-space:pre;overflow-x:auto;line-height:normal;font-family:Menlo,'DejaVu Sans Mono',consolas,'Courier New',monospace\">Train Loss :<span style=\"color: #008080; text-decoration-color: #008080; font-weight: bold\">0.8602</span> | Train Acc :<span style=\"color: #008080; text-decoration-color: #008080; font-weight: bold\">0.72</span> % | </pre>\n"
            ]
          },
          "metadata": {}
        },
        {
          "output_type": "display_data",
          "data": {
            "text/plain": [
              "Val Loss :\u001b[1;36m0.8383\u001b[0m | Val Acc :\u001b[1;36m0.73\u001b[0m %\n"
            ],
            "text/html": [
              "<pre style=\"white-space:pre;overflow-x:auto;line-height:normal;font-family:Menlo,'DejaVu Sans Mono',consolas,'Courier New',monospace\">Val Loss :<span style=\"color: #008080; text-decoration-color: #008080; font-weight: bold\">0.8383</span> | Val Acc :<span style=\"color: #008080; text-decoration-color: #008080; font-weight: bold\">0.73</span> %\n",
              "</pre>\n"
            ]
          },
          "metadata": {}
        },
        {
          "output_type": "display_data",
          "data": {
            "text/plain": [
              "=======================================Done\n"
            ],
            "text/html": [
              "<pre style=\"white-space:pre;overflow-x:auto;line-height:normal;font-family:Menlo,'DejaVu Sans Mono',consolas,'Courier New',monospace\">=======================================Done\n",
              "</pre>\n"
            ]
          },
          "metadata": {}
        },
        {
          "output_type": "display_data",
          "data": {
            "text/plain": [
              "EPOCH \u001b[1;36m6\u001b[0m\n"
            ],
            "text/html": [
              "<pre style=\"white-space:pre;overflow-x:auto;line-height:normal;font-family:Menlo,'DejaVu Sans Mono',consolas,'Courier New',monospace\">EPOCH <span style=\"color: #008080; text-decoration-color: #008080; font-weight: bold\">6</span>\n",
              "</pre>\n"
            ]
          },
          "metadata": {}
        },
        {
          "output_type": "display_data",
          "data": {
            "text/plain": [
              "Train Loss :\u001b[1;36m0.7898\u001b[0m | Train Acc :\u001b[1;36m0.74\u001b[0m % | "
            ],
            "text/html": [
              "<pre style=\"white-space:pre;overflow-x:auto;line-height:normal;font-family:Menlo,'DejaVu Sans Mono',consolas,'Courier New',monospace\">Train Loss :<span style=\"color: #008080; text-decoration-color: #008080; font-weight: bold\">0.7898</span> | Train Acc :<span style=\"color: #008080; text-decoration-color: #008080; font-weight: bold\">0.74</span> % | </pre>\n"
            ]
          },
          "metadata": {}
        },
        {
          "output_type": "display_data",
          "data": {
            "text/plain": [
              "Val Loss :\u001b[1;36m0.7847\u001b[0m | Val Acc :\u001b[1;36m0.74\u001b[0m %\n"
            ],
            "text/html": [
              "<pre style=\"white-space:pre;overflow-x:auto;line-height:normal;font-family:Menlo,'DejaVu Sans Mono',consolas,'Courier New',monospace\">Val Loss :<span style=\"color: #008080; text-decoration-color: #008080; font-weight: bold\">0.7847</span> | Val Acc :<span style=\"color: #008080; text-decoration-color: #008080; font-weight: bold\">0.74</span> %\n",
              "</pre>\n"
            ]
          },
          "metadata": {}
        },
        {
          "output_type": "display_data",
          "data": {
            "text/plain": [
              "=======================================Done\n"
            ],
            "text/html": [
              "<pre style=\"white-space:pre;overflow-x:auto;line-height:normal;font-family:Menlo,'DejaVu Sans Mono',consolas,'Courier New',monospace\">=======================================Done\n",
              "</pre>\n"
            ]
          },
          "metadata": {}
        },
        {
          "output_type": "display_data",
          "data": {
            "text/plain": [
              "EPOCH \u001b[1;36m7\u001b[0m\n"
            ],
            "text/html": [
              "<pre style=\"white-space:pre;overflow-x:auto;line-height:normal;font-family:Menlo,'DejaVu Sans Mono',consolas,'Courier New',monospace\">EPOCH <span style=\"color: #008080; text-decoration-color: #008080; font-weight: bold\">7</span>\n",
              "</pre>\n"
            ]
          },
          "metadata": {}
        },
        {
          "output_type": "display_data",
          "data": {
            "text/plain": [
              "Train Loss :\u001b[1;36m0.7355\u001b[0m | Train Acc :\u001b[1;36m0.76\u001b[0m % | "
            ],
            "text/html": [
              "<pre style=\"white-space:pre;overflow-x:auto;line-height:normal;font-family:Menlo,'DejaVu Sans Mono',consolas,'Courier New',monospace\">Train Loss :<span style=\"color: #008080; text-decoration-color: #008080; font-weight: bold\">0.7355</span> | Train Acc :<span style=\"color: #008080; text-decoration-color: #008080; font-weight: bold\">0.76</span> % | </pre>\n"
            ]
          },
          "metadata": {}
        },
        {
          "output_type": "display_data",
          "data": {
            "text/plain": [
              "Val Loss :\u001b[1;36m0.7258\u001b[0m | Val Acc :\u001b[1;36m0.77\u001b[0m %\n"
            ],
            "text/html": [
              "<pre style=\"white-space:pre;overflow-x:auto;line-height:normal;font-family:Menlo,'DejaVu Sans Mono',consolas,'Courier New',monospace\">Val Loss :<span style=\"color: #008080; text-decoration-color: #008080; font-weight: bold\">0.7258</span> | Val Acc :<span style=\"color: #008080; text-decoration-color: #008080; font-weight: bold\">0.77</span> %\n",
              "</pre>\n"
            ]
          },
          "metadata": {}
        },
        {
          "output_type": "display_data",
          "data": {
            "text/plain": [
              "=======================================Done\n"
            ],
            "text/html": [
              "<pre style=\"white-space:pre;overflow-x:auto;line-height:normal;font-family:Menlo,'DejaVu Sans Mono',consolas,'Courier New',monospace\">=======================================Done\n",
              "</pre>\n"
            ]
          },
          "metadata": {}
        },
        {
          "output_type": "display_data",
          "data": {
            "text/plain": [
              "EPOCH \u001b[1;36m8\u001b[0m\n"
            ],
            "text/html": [
              "<pre style=\"white-space:pre;overflow-x:auto;line-height:normal;font-family:Menlo,'DejaVu Sans Mono',consolas,'Courier New',monospace\">EPOCH <span style=\"color: #008080; text-decoration-color: #008080; font-weight: bold\">8</span>\n",
              "</pre>\n"
            ]
          },
          "metadata": {}
        },
        {
          "output_type": "display_data",
          "data": {
            "text/plain": [
              "Train Loss :\u001b[1;36m0.6932\u001b[0m | Train Acc :\u001b[1;36m0.78\u001b[0m % | "
            ],
            "text/html": [
              "<pre style=\"white-space:pre;overflow-x:auto;line-height:normal;font-family:Menlo,'DejaVu Sans Mono',consolas,'Courier New',monospace\">Train Loss :<span style=\"color: #008080; text-decoration-color: #008080; font-weight: bold\">0.6932</span> | Train Acc :<span style=\"color: #008080; text-decoration-color: #008080; font-weight: bold\">0.78</span> % | </pre>\n"
            ]
          },
          "metadata": {}
        },
        {
          "output_type": "display_data",
          "data": {
            "text/plain": [
              "Val Loss :\u001b[1;36m0.7295\u001b[0m | Val Acc :\u001b[1;36m0.77\u001b[0m %\n"
            ],
            "text/html": [
              "<pre style=\"white-space:pre;overflow-x:auto;line-height:normal;font-family:Menlo,'DejaVu Sans Mono',consolas,'Courier New',monospace\">Val Loss :<span style=\"color: #008080; text-decoration-color: #008080; font-weight: bold\">0.7295</span> | Val Acc :<span style=\"color: #008080; text-decoration-color: #008080; font-weight: bold\">0.77</span> %\n",
              "</pre>\n"
            ]
          },
          "metadata": {}
        },
        {
          "output_type": "display_data",
          "data": {
            "text/plain": [
              "=======================================Done\n"
            ],
            "text/html": [
              "<pre style=\"white-space:pre;overflow-x:auto;line-height:normal;font-family:Menlo,'DejaVu Sans Mono',consolas,'Courier New',monospace\">=======================================Done\n",
              "</pre>\n"
            ]
          },
          "metadata": {}
        },
        {
          "output_type": "display_data",
          "data": {
            "text/plain": [
              "EPOCH \u001b[1;36m9\u001b[0m\n"
            ],
            "text/html": [
              "<pre style=\"white-space:pre;overflow-x:auto;line-height:normal;font-family:Menlo,'DejaVu Sans Mono',consolas,'Courier New',monospace\">EPOCH <span style=\"color: #008080; text-decoration-color: #008080; font-weight: bold\">9</span>\n",
              "</pre>\n"
            ]
          },
          "metadata": {}
        },
        {
          "output_type": "display_data",
          "data": {
            "text/plain": [
              "Train Loss :\u001b[1;36m0.6552\u001b[0m | Train Acc :\u001b[1;36m0.79\u001b[0m % | "
            ],
            "text/html": [
              "<pre style=\"white-space:pre;overflow-x:auto;line-height:normal;font-family:Menlo,'DejaVu Sans Mono',consolas,'Courier New',monospace\">Train Loss :<span style=\"color: #008080; text-decoration-color: #008080; font-weight: bold\">0.6552</span> | Train Acc :<span style=\"color: #008080; text-decoration-color: #008080; font-weight: bold\">0.79</span> % | </pre>\n"
            ]
          },
          "metadata": {}
        },
        {
          "output_type": "display_data",
          "data": {
            "text/plain": [
              "Val Loss :\u001b[1;36m0.6461\u001b[0m | Val Acc :\u001b[1;36m0.80\u001b[0m %\n"
            ],
            "text/html": [
              "<pre style=\"white-space:pre;overflow-x:auto;line-height:normal;font-family:Menlo,'DejaVu Sans Mono',consolas,'Courier New',monospace\">Val Loss :<span style=\"color: #008080; text-decoration-color: #008080; font-weight: bold\">0.6461</span> | Val Acc :<span style=\"color: #008080; text-decoration-color: #008080; font-weight: bold\">0.80</span> %\n",
              "</pre>\n"
            ]
          },
          "metadata": {}
        },
        {
          "output_type": "display_data",
          "data": {
            "text/plain": [
              "=======================================Done\n"
            ],
            "text/html": [
              "<pre style=\"white-space:pre;overflow-x:auto;line-height:normal;font-family:Menlo,'DejaVu Sans Mono',consolas,'Courier New',monospace\">=======================================Done\n",
              "</pre>\n"
            ]
          },
          "metadata": {}
        },
        {
          "output_type": "display_data",
          "data": {
            "text/plain": [
              "EPOCH \u001b[1;36m10\u001b[0m\n"
            ],
            "text/html": [
              "<pre style=\"white-space:pre;overflow-x:auto;line-height:normal;font-family:Menlo,'DejaVu Sans Mono',consolas,'Courier New',monospace\">EPOCH <span style=\"color: #008080; text-decoration-color: #008080; font-weight: bold\">10</span>\n",
              "</pre>\n"
            ]
          },
          "metadata": {}
        },
        {
          "output_type": "display_data",
          "data": {
            "text/plain": [
              "Train Loss :\u001b[1;36m0.6337\u001b[0m | Train Acc :\u001b[1;36m0.80\u001b[0m % | "
            ],
            "text/html": [
              "<pre style=\"white-space:pre;overflow-x:auto;line-height:normal;font-family:Menlo,'DejaVu Sans Mono',consolas,'Courier New',monospace\">Train Loss :<span style=\"color: #008080; text-decoration-color: #008080; font-weight: bold\">0.6337</span> | Train Acc :<span style=\"color: #008080; text-decoration-color: #008080; font-weight: bold\">0.80</span> % | </pre>\n"
            ]
          },
          "metadata": {}
        },
        {
          "output_type": "display_data",
          "data": {
            "text/plain": [
              "Val Loss :\u001b[1;36m0.6178\u001b[0m | Val Acc :\u001b[1;36m0.80\u001b[0m %\n"
            ],
            "text/html": [
              "<pre style=\"white-space:pre;overflow-x:auto;line-height:normal;font-family:Menlo,'DejaVu Sans Mono',consolas,'Courier New',monospace\">Val Loss :<span style=\"color: #008080; text-decoration-color: #008080; font-weight: bold\">0.6178</span> | Val Acc :<span style=\"color: #008080; text-decoration-color: #008080; font-weight: bold\">0.80</span> %\n",
              "</pre>\n"
            ]
          },
          "metadata": {}
        },
        {
          "output_type": "display_data",
          "data": {
            "text/plain": [
              "=======================================Done\n"
            ],
            "text/html": [
              "<pre style=\"white-space:pre;overflow-x:auto;line-height:normal;font-family:Menlo,'DejaVu Sans Mono',consolas,'Courier New',monospace\">=======================================Done\n",
              "</pre>\n"
            ]
          },
          "metadata": {}
        },
        {
          "output_type": "display_data",
          "data": {
            "text/plain": [
              "EPOCH \u001b[1;36m11\u001b[0m\n"
            ],
            "text/html": [
              "<pre style=\"white-space:pre;overflow-x:auto;line-height:normal;font-family:Menlo,'DejaVu Sans Mono',consolas,'Courier New',monospace\">EPOCH <span style=\"color: #008080; text-decoration-color: #008080; font-weight: bold\">11</span>\n",
              "</pre>\n"
            ]
          },
          "metadata": {}
        },
        {
          "output_type": "display_data",
          "data": {
            "text/plain": [
              "Train Loss :\u001b[1;36m0.6027\u001b[0m | Train Acc :\u001b[1;36m0.81\u001b[0m % | "
            ],
            "text/html": [
              "<pre style=\"white-space:pre;overflow-x:auto;line-height:normal;font-family:Menlo,'DejaVu Sans Mono',consolas,'Courier New',monospace\">Train Loss :<span style=\"color: #008080; text-decoration-color: #008080; font-weight: bold\">0.6027</span> | Train Acc :<span style=\"color: #008080; text-decoration-color: #008080; font-weight: bold\">0.81</span> % | </pre>\n"
            ]
          },
          "metadata": {}
        },
        {
          "output_type": "display_data",
          "data": {
            "text/plain": [
              "Val Loss :\u001b[1;36m0.6227\u001b[0m | Val Acc :\u001b[1;36m0.80\u001b[0m %\n"
            ],
            "text/html": [
              "<pre style=\"white-space:pre;overflow-x:auto;line-height:normal;font-family:Menlo,'DejaVu Sans Mono',consolas,'Courier New',monospace\">Val Loss :<span style=\"color: #008080; text-decoration-color: #008080; font-weight: bold\">0.6227</span> | Val Acc :<span style=\"color: #008080; text-decoration-color: #008080; font-weight: bold\">0.80</span> %\n",
              "</pre>\n"
            ]
          },
          "metadata": {}
        },
        {
          "output_type": "display_data",
          "data": {
            "text/plain": [
              "=======================================Done\n"
            ],
            "text/html": [
              "<pre style=\"white-space:pre;overflow-x:auto;line-height:normal;font-family:Menlo,'DejaVu Sans Mono',consolas,'Courier New',monospace\">=======================================Done\n",
              "</pre>\n"
            ]
          },
          "metadata": {}
        },
        {
          "output_type": "display_data",
          "data": {
            "text/plain": [
              "EPOCH \u001b[1;36m12\u001b[0m\n"
            ],
            "text/html": [
              "<pre style=\"white-space:pre;overflow-x:auto;line-height:normal;font-family:Menlo,'DejaVu Sans Mono',consolas,'Courier New',monospace\">EPOCH <span style=\"color: #008080; text-decoration-color: #008080; font-weight: bold\">12</span>\n",
              "</pre>\n"
            ]
          },
          "metadata": {}
        },
        {
          "output_type": "display_data",
          "data": {
            "text/plain": [
              "Train Loss :\u001b[1;36m0.5874\u001b[0m | Train Acc :\u001b[1;36m0.81\u001b[0m % | "
            ],
            "text/html": [
              "<pre style=\"white-space:pre;overflow-x:auto;line-height:normal;font-family:Menlo,'DejaVu Sans Mono',consolas,'Courier New',monospace\">Train Loss :<span style=\"color: #008080; text-decoration-color: #008080; font-weight: bold\">0.5874</span> | Train Acc :<span style=\"color: #008080; text-decoration-color: #008080; font-weight: bold\">0.81</span> % | </pre>\n"
            ]
          },
          "metadata": {}
        },
        {
          "output_type": "display_data",
          "data": {
            "text/plain": [
              "Val Loss :\u001b[1;36m0.6310\u001b[0m | Val Acc :\u001b[1;36m0.80\u001b[0m %\n"
            ],
            "text/html": [
              "<pre style=\"white-space:pre;overflow-x:auto;line-height:normal;font-family:Menlo,'DejaVu Sans Mono',consolas,'Courier New',monospace\">Val Loss :<span style=\"color: #008080; text-decoration-color: #008080; font-weight: bold\">0.6310</span> | Val Acc :<span style=\"color: #008080; text-decoration-color: #008080; font-weight: bold\">0.80</span> %\n",
              "</pre>\n"
            ]
          },
          "metadata": {}
        },
        {
          "output_type": "display_data",
          "data": {
            "text/plain": [
              "=======================================Done\n"
            ],
            "text/html": [
              "<pre style=\"white-space:pre;overflow-x:auto;line-height:normal;font-family:Menlo,'DejaVu Sans Mono',consolas,'Courier New',monospace\">=======================================Done\n",
              "</pre>\n"
            ]
          },
          "metadata": {}
        },
        {
          "output_type": "display_data",
          "data": {
            "text/plain": [
              "EPOCH \u001b[1;36m13\u001b[0m\n"
            ],
            "text/html": [
              "<pre style=\"white-space:pre;overflow-x:auto;line-height:normal;font-family:Menlo,'DejaVu Sans Mono',consolas,'Courier New',monospace\">EPOCH <span style=\"color: #008080; text-decoration-color: #008080; font-weight: bold\">13</span>\n",
              "</pre>\n"
            ]
          },
          "metadata": {}
        },
        {
          "output_type": "display_data",
          "data": {
            "text/plain": [
              "Train Loss :\u001b[1;36m0.5717\u001b[0m | Train Acc :\u001b[1;36m0.81\u001b[0m % | "
            ],
            "text/html": [
              "<pre style=\"white-space:pre;overflow-x:auto;line-height:normal;font-family:Menlo,'DejaVu Sans Mono',consolas,'Courier New',monospace\">Train Loss :<span style=\"color: #008080; text-decoration-color: #008080; font-weight: bold\">0.5717</span> | Train Acc :<span style=\"color: #008080; text-decoration-color: #008080; font-weight: bold\">0.81</span> % | </pre>\n"
            ]
          },
          "metadata": {}
        },
        {
          "output_type": "display_data",
          "data": {
            "text/plain": [
              "Val Loss :\u001b[1;36m0.6226\u001b[0m | Val Acc :\u001b[1;36m0.80\u001b[0m %\n"
            ],
            "text/html": [
              "<pre style=\"white-space:pre;overflow-x:auto;line-height:normal;font-family:Menlo,'DejaVu Sans Mono',consolas,'Courier New',monospace\">Val Loss :<span style=\"color: #008080; text-decoration-color: #008080; font-weight: bold\">0.6226</span> | Val Acc :<span style=\"color: #008080; text-decoration-color: #008080; font-weight: bold\">0.80</span> %\n",
              "</pre>\n"
            ]
          },
          "metadata": {}
        },
        {
          "output_type": "display_data",
          "data": {
            "text/plain": [
              "=======================================Done\n"
            ],
            "text/html": [
              "<pre style=\"white-space:pre;overflow-x:auto;line-height:normal;font-family:Menlo,'DejaVu Sans Mono',consolas,'Courier New',monospace\">=======================================Done\n",
              "</pre>\n"
            ]
          },
          "metadata": {}
        },
        {
          "output_type": "display_data",
          "data": {
            "text/plain": [
              "EPOCH \u001b[1;36m14\u001b[0m\n"
            ],
            "text/html": [
              "<pre style=\"white-space:pre;overflow-x:auto;line-height:normal;font-family:Menlo,'DejaVu Sans Mono',consolas,'Courier New',monospace\">EPOCH <span style=\"color: #008080; text-decoration-color: #008080; font-weight: bold\">14</span>\n",
              "</pre>\n"
            ]
          },
          "metadata": {}
        },
        {
          "output_type": "display_data",
          "data": {
            "text/plain": [
              "Train Loss :\u001b[1;36m0.5492\u001b[0m | Train Acc :\u001b[1;36m0.82\u001b[0m % | "
            ],
            "text/html": [
              "<pre style=\"white-space:pre;overflow-x:auto;line-height:normal;font-family:Menlo,'DejaVu Sans Mono',consolas,'Courier New',monospace\">Train Loss :<span style=\"color: #008080; text-decoration-color: #008080; font-weight: bold\">0.5492</span> | Train Acc :<span style=\"color: #008080; text-decoration-color: #008080; font-weight: bold\">0.82</span> % | </pre>\n"
            ]
          },
          "metadata": {}
        },
        {
          "output_type": "display_data",
          "data": {
            "text/plain": [
              "Val Loss :\u001b[1;36m0.5508\u001b[0m | Val Acc :\u001b[1;36m0.82\u001b[0m %\n"
            ],
            "text/html": [
              "<pre style=\"white-space:pre;overflow-x:auto;line-height:normal;font-family:Menlo,'DejaVu Sans Mono',consolas,'Courier New',monospace\">Val Loss :<span style=\"color: #008080; text-decoration-color: #008080; font-weight: bold\">0.5508</span> | Val Acc :<span style=\"color: #008080; text-decoration-color: #008080; font-weight: bold\">0.82</span> %\n",
              "</pre>\n"
            ]
          },
          "metadata": {}
        },
        {
          "output_type": "display_data",
          "data": {
            "text/plain": [
              "=======================================Done\n"
            ],
            "text/html": [
              "<pre style=\"white-space:pre;overflow-x:auto;line-height:normal;font-family:Menlo,'DejaVu Sans Mono',consolas,'Courier New',monospace\">=======================================Done\n",
              "</pre>\n"
            ]
          },
          "metadata": {}
        },
        {
          "output_type": "display_data",
          "data": {
            "text/plain": [
              "EPOCH \u001b[1;36m15\u001b[0m\n"
            ],
            "text/html": [
              "<pre style=\"white-space:pre;overflow-x:auto;line-height:normal;font-family:Menlo,'DejaVu Sans Mono',consolas,'Courier New',monospace\">EPOCH <span style=\"color: #008080; text-decoration-color: #008080; font-weight: bold\">15</span>\n",
              "</pre>\n"
            ]
          },
          "metadata": {}
        },
        {
          "output_type": "display_data",
          "data": {
            "text/plain": [
              "Train Loss :\u001b[1;36m0.5336\u001b[0m | Train Acc :\u001b[1;36m0.83\u001b[0m % | "
            ],
            "text/html": [
              "<pre style=\"white-space:pre;overflow-x:auto;line-height:normal;font-family:Menlo,'DejaVu Sans Mono',consolas,'Courier New',monospace\">Train Loss :<span style=\"color: #008080; text-decoration-color: #008080; font-weight: bold\">0.5336</span> | Train Acc :<span style=\"color: #008080; text-decoration-color: #008080; font-weight: bold\">0.83</span> % | </pre>\n"
            ]
          },
          "metadata": {}
        },
        {
          "output_type": "display_data",
          "data": {
            "text/plain": [
              "Val Loss :\u001b[1;36m0.5406\u001b[0m | Val Acc :\u001b[1;36m0.83\u001b[0m %\n"
            ],
            "text/html": [
              "<pre style=\"white-space:pre;overflow-x:auto;line-height:normal;font-family:Menlo,'DejaVu Sans Mono',consolas,'Courier New',monospace\">Val Loss :<span style=\"color: #008080; text-decoration-color: #008080; font-weight: bold\">0.5406</span> | Val Acc :<span style=\"color: #008080; text-decoration-color: #008080; font-weight: bold\">0.83</span> %\n",
              "</pre>\n"
            ]
          },
          "metadata": {}
        },
        {
          "output_type": "display_data",
          "data": {
            "text/plain": [
              "=======================================Done\n"
            ],
            "text/html": [
              "<pre style=\"white-space:pre;overflow-x:auto;line-height:normal;font-family:Menlo,'DejaVu Sans Mono',consolas,'Courier New',monospace\">=======================================Done\n",
              "</pre>\n"
            ]
          },
          "metadata": {}
        },
        {
          "output_type": "display_data",
          "data": {
            "text/plain": [
              "EPOCH \u001b[1;36m16\u001b[0m\n"
            ],
            "text/html": [
              "<pre style=\"white-space:pre;overflow-x:auto;line-height:normal;font-family:Menlo,'DejaVu Sans Mono',consolas,'Courier New',monospace\">EPOCH <span style=\"color: #008080; text-decoration-color: #008080; font-weight: bold\">16</span>\n",
              "</pre>\n"
            ]
          },
          "metadata": {}
        },
        {
          "output_type": "display_data",
          "data": {
            "text/plain": [
              "Train Loss :\u001b[1;36m0.5232\u001b[0m | Train Acc :\u001b[1;36m0.83\u001b[0m % | "
            ],
            "text/html": [
              "<pre style=\"white-space:pre;overflow-x:auto;line-height:normal;font-family:Menlo,'DejaVu Sans Mono',consolas,'Courier New',monospace\">Train Loss :<span style=\"color: #008080; text-decoration-color: #008080; font-weight: bold\">0.5232</span> | Train Acc :<span style=\"color: #008080; text-decoration-color: #008080; font-weight: bold\">0.83</span> % | </pre>\n"
            ]
          },
          "metadata": {}
        },
        {
          "output_type": "display_data",
          "data": {
            "text/plain": [
              "Val Loss :\u001b[1;36m0.5377\u001b[0m | Val Acc :\u001b[1;36m0.83\u001b[0m %\n"
            ],
            "text/html": [
              "<pre style=\"white-space:pre;overflow-x:auto;line-height:normal;font-family:Menlo,'DejaVu Sans Mono',consolas,'Courier New',monospace\">Val Loss :<span style=\"color: #008080; text-decoration-color: #008080; font-weight: bold\">0.5377</span> | Val Acc :<span style=\"color: #008080; text-decoration-color: #008080; font-weight: bold\">0.83</span> %\n",
              "</pre>\n"
            ]
          },
          "metadata": {}
        },
        {
          "output_type": "display_data",
          "data": {
            "text/plain": [
              "=======================================Done\n"
            ],
            "text/html": [
              "<pre style=\"white-space:pre;overflow-x:auto;line-height:normal;font-family:Menlo,'DejaVu Sans Mono',consolas,'Courier New',monospace\">=======================================Done\n",
              "</pre>\n"
            ]
          },
          "metadata": {}
        },
        {
          "output_type": "display_data",
          "data": {
            "text/plain": [
              "EPOCH \u001b[1;36m17\u001b[0m\n"
            ],
            "text/html": [
              "<pre style=\"white-space:pre;overflow-x:auto;line-height:normal;font-family:Menlo,'DejaVu Sans Mono',consolas,'Courier New',monospace\">EPOCH <span style=\"color: #008080; text-decoration-color: #008080; font-weight: bold\">17</span>\n",
              "</pre>\n"
            ]
          },
          "metadata": {}
        },
        {
          "output_type": "display_data",
          "data": {
            "text/plain": [
              "Train Loss :\u001b[1;36m0.5046\u001b[0m | Train Acc :\u001b[1;36m0.84\u001b[0m % | "
            ],
            "text/html": [
              "<pre style=\"white-space:pre;overflow-x:auto;line-height:normal;font-family:Menlo,'DejaVu Sans Mono',consolas,'Courier New',monospace\">Train Loss :<span style=\"color: #008080; text-decoration-color: #008080; font-weight: bold\">0.5046</span> | Train Acc :<span style=\"color: #008080; text-decoration-color: #008080; font-weight: bold\">0.84</span> % | </pre>\n"
            ]
          },
          "metadata": {}
        },
        {
          "output_type": "display_data",
          "data": {
            "text/plain": [
              "Val Loss :\u001b[1;36m0.4803\u001b[0m | Val Acc :\u001b[1;36m0.84\u001b[0m %\n"
            ],
            "text/html": [
              "<pre style=\"white-space:pre;overflow-x:auto;line-height:normal;font-family:Menlo,'DejaVu Sans Mono',consolas,'Courier New',monospace\">Val Loss :<span style=\"color: #008080; text-decoration-color: #008080; font-weight: bold\">0.4803</span> | Val Acc :<span style=\"color: #008080; text-decoration-color: #008080; font-weight: bold\">0.84</span> %\n",
              "</pre>\n"
            ]
          },
          "metadata": {}
        },
        {
          "output_type": "display_data",
          "data": {
            "text/plain": [
              "=======================================Done\n"
            ],
            "text/html": [
              "<pre style=\"white-space:pre;overflow-x:auto;line-height:normal;font-family:Menlo,'DejaVu Sans Mono',consolas,'Courier New',monospace\">=======================================Done\n",
              "</pre>\n"
            ]
          },
          "metadata": {}
        },
        {
          "output_type": "display_data",
          "data": {
            "text/plain": [
              "EPOCH \u001b[1;36m18\u001b[0m\n"
            ],
            "text/html": [
              "<pre style=\"white-space:pre;overflow-x:auto;line-height:normal;font-family:Menlo,'DejaVu Sans Mono',consolas,'Courier New',monospace\">EPOCH <span style=\"color: #008080; text-decoration-color: #008080; font-weight: bold\">18</span>\n",
              "</pre>\n"
            ]
          },
          "metadata": {}
        },
        {
          "output_type": "display_data",
          "data": {
            "text/plain": [
              "Train Loss :\u001b[1;36m0.4908\u001b[0m | Train Acc :\u001b[1;36m0.84\u001b[0m % | "
            ],
            "text/html": [
              "<pre style=\"white-space:pre;overflow-x:auto;line-height:normal;font-family:Menlo,'DejaVu Sans Mono',consolas,'Courier New',monospace\">Train Loss :<span style=\"color: #008080; text-decoration-color: #008080; font-weight: bold\">0.4908</span> | Train Acc :<span style=\"color: #008080; text-decoration-color: #008080; font-weight: bold\">0.84</span> % | </pre>\n"
            ]
          },
          "metadata": {}
        },
        {
          "output_type": "display_data",
          "data": {
            "text/plain": [
              "Val Loss :\u001b[1;36m0.4772\u001b[0m | Val Acc :\u001b[1;36m0.85\u001b[0m %\n"
            ],
            "text/html": [
              "<pre style=\"white-space:pre;overflow-x:auto;line-height:normal;font-family:Menlo,'DejaVu Sans Mono',consolas,'Courier New',monospace\">Val Loss :<span style=\"color: #008080; text-decoration-color: #008080; font-weight: bold\">0.4772</span> | Val Acc :<span style=\"color: #008080; text-decoration-color: #008080; font-weight: bold\">0.85</span> %\n",
              "</pre>\n"
            ]
          },
          "metadata": {}
        },
        {
          "output_type": "display_data",
          "data": {
            "text/plain": [
              "=======================================Done\n"
            ],
            "text/html": [
              "<pre style=\"white-space:pre;overflow-x:auto;line-height:normal;font-family:Menlo,'DejaVu Sans Mono',consolas,'Courier New',monospace\">=======================================Done\n",
              "</pre>\n"
            ]
          },
          "metadata": {}
        },
        {
          "output_type": "display_data",
          "data": {
            "text/plain": [
              "EPOCH \u001b[1;36m19\u001b[0m\n"
            ],
            "text/html": [
              "<pre style=\"white-space:pre;overflow-x:auto;line-height:normal;font-family:Menlo,'DejaVu Sans Mono',consolas,'Courier New',monospace\">EPOCH <span style=\"color: #008080; text-decoration-color: #008080; font-weight: bold\">19</span>\n",
              "</pre>\n"
            ]
          },
          "metadata": {}
        },
        {
          "output_type": "display_data",
          "data": {
            "text/plain": [
              "Train Loss :\u001b[1;36m0.4875\u001b[0m | Train Acc :\u001b[1;36m0.84\u001b[0m % | "
            ],
            "text/html": [
              "<pre style=\"white-space:pre;overflow-x:auto;line-height:normal;font-family:Menlo,'DejaVu Sans Mono',consolas,'Courier New',monospace\">Train Loss :<span style=\"color: #008080; text-decoration-color: #008080; font-weight: bold\">0.4875</span> | Train Acc :<span style=\"color: #008080; text-decoration-color: #008080; font-weight: bold\">0.84</span> % | </pre>\n"
            ]
          },
          "metadata": {}
        },
        {
          "output_type": "display_data",
          "data": {
            "text/plain": [
              "Val Loss :\u001b[1;36m0.4854\u001b[0m | Val Acc :\u001b[1;36m0.85\u001b[0m %\n"
            ],
            "text/html": [
              "<pre style=\"white-space:pre;overflow-x:auto;line-height:normal;font-family:Menlo,'DejaVu Sans Mono',consolas,'Courier New',monospace\">Val Loss :<span style=\"color: #008080; text-decoration-color: #008080; font-weight: bold\">0.4854</span> | Val Acc :<span style=\"color: #008080; text-decoration-color: #008080; font-weight: bold\">0.85</span> %\n",
              "</pre>\n"
            ]
          },
          "metadata": {}
        },
        {
          "output_type": "display_data",
          "data": {
            "text/plain": [
              "=======================================Done\n"
            ],
            "text/html": [
              "<pre style=\"white-space:pre;overflow-x:auto;line-height:normal;font-family:Menlo,'DejaVu Sans Mono',consolas,'Courier New',monospace\">=======================================Done\n",
              "</pre>\n"
            ]
          },
          "metadata": {}
        },
        {
          "output_type": "display_data",
          "data": {
            "text/plain": [
              "EPOCH \u001b[1;36m20\u001b[0m\n"
            ],
            "text/html": [
              "<pre style=\"white-space:pre;overflow-x:auto;line-height:normal;font-family:Menlo,'DejaVu Sans Mono',consolas,'Courier New',monospace\">EPOCH <span style=\"color: #008080; text-decoration-color: #008080; font-weight: bold\">20</span>\n",
              "</pre>\n"
            ]
          },
          "metadata": {}
        },
        {
          "output_type": "display_data",
          "data": {
            "text/plain": [
              "Train Loss :\u001b[1;36m0.4719\u001b[0m | Train Acc :\u001b[1;36m0.85\u001b[0m % | "
            ],
            "text/html": [
              "<pre style=\"white-space:pre;overflow-x:auto;line-height:normal;font-family:Menlo,'DejaVu Sans Mono',consolas,'Courier New',monospace\">Train Loss :<span style=\"color: #008080; text-decoration-color: #008080; font-weight: bold\">0.4719</span> | Train Acc :<span style=\"color: #008080; text-decoration-color: #008080; font-weight: bold\">0.85</span> % | </pre>\n"
            ]
          },
          "metadata": {}
        },
        {
          "output_type": "display_data",
          "data": {
            "text/plain": [
              "Val Loss :\u001b[1;36m0.4975\u001b[0m | Val Acc :\u001b[1;36m0.84\u001b[0m %\n"
            ],
            "text/html": [
              "<pre style=\"white-space:pre;overflow-x:auto;line-height:normal;font-family:Menlo,'DejaVu Sans Mono',consolas,'Courier New',monospace\">Val Loss :<span style=\"color: #008080; text-decoration-color: #008080; font-weight: bold\">0.4975</span> | Val Acc :<span style=\"color: #008080; text-decoration-color: #008080; font-weight: bold\">0.84</span> %\n",
              "</pre>\n"
            ]
          },
          "metadata": {}
        },
        {
          "output_type": "display_data",
          "data": {
            "text/plain": [
              "=======================================Done\n"
            ],
            "text/html": [
              "<pre style=\"white-space:pre;overflow-x:auto;line-height:normal;font-family:Menlo,'DejaVu Sans Mono',consolas,'Courier New',monospace\">=======================================Done\n",
              "</pre>\n"
            ]
          },
          "metadata": {}
        },
        {
          "output_type": "display_data",
          "data": {
            "text/plain": [
              "EPOCH \u001b[1;36m21\u001b[0m\n"
            ],
            "text/html": [
              "<pre style=\"white-space:pre;overflow-x:auto;line-height:normal;font-family:Menlo,'DejaVu Sans Mono',consolas,'Courier New',monospace\">EPOCH <span style=\"color: #008080; text-decoration-color: #008080; font-weight: bold\">21</span>\n",
              "</pre>\n"
            ]
          },
          "metadata": {}
        },
        {
          "output_type": "display_data",
          "data": {
            "text/plain": [
              "Train Loss :\u001b[1;36m0.4577\u001b[0m | Train Acc :\u001b[1;36m0.85\u001b[0m % | "
            ],
            "text/html": [
              "<pre style=\"white-space:pre;overflow-x:auto;line-height:normal;font-family:Menlo,'DejaVu Sans Mono',consolas,'Courier New',monospace\">Train Loss :<span style=\"color: #008080; text-decoration-color: #008080; font-weight: bold\">0.4577</span> | Train Acc :<span style=\"color: #008080; text-decoration-color: #008080; font-weight: bold\">0.85</span> % | </pre>\n"
            ]
          },
          "metadata": {}
        },
        {
          "output_type": "display_data",
          "data": {
            "text/plain": [
              "Val Loss :\u001b[1;36m0.4935\u001b[0m | Val Acc :\u001b[1;36m0.85\u001b[0m %\n"
            ],
            "text/html": [
              "<pre style=\"white-space:pre;overflow-x:auto;line-height:normal;font-family:Menlo,'DejaVu Sans Mono',consolas,'Courier New',monospace\">Val Loss :<span style=\"color: #008080; text-decoration-color: #008080; font-weight: bold\">0.4935</span> | Val Acc :<span style=\"color: #008080; text-decoration-color: #008080; font-weight: bold\">0.85</span> %\n",
              "</pre>\n"
            ]
          },
          "metadata": {}
        },
        {
          "output_type": "display_data",
          "data": {
            "text/plain": [
              "=======================================Done\n"
            ],
            "text/html": [
              "<pre style=\"white-space:pre;overflow-x:auto;line-height:normal;font-family:Menlo,'DejaVu Sans Mono',consolas,'Courier New',monospace\">=======================================Done\n",
              "</pre>\n"
            ]
          },
          "metadata": {}
        },
        {
          "output_type": "display_data",
          "data": {
            "text/plain": [
              "EPOCH \u001b[1;36m22\u001b[0m\n"
            ],
            "text/html": [
              "<pre style=\"white-space:pre;overflow-x:auto;line-height:normal;font-family:Menlo,'DejaVu Sans Mono',consolas,'Courier New',monospace\">EPOCH <span style=\"color: #008080; text-decoration-color: #008080; font-weight: bold\">22</span>\n",
              "</pre>\n"
            ]
          },
          "metadata": {}
        },
        {
          "output_type": "display_data",
          "data": {
            "text/plain": [
              "Train Loss :\u001b[1;36m0.4567\u001b[0m | Train Acc :\u001b[1;36m0.86\u001b[0m % | "
            ],
            "text/html": [
              "<pre style=\"white-space:pre;overflow-x:auto;line-height:normal;font-family:Menlo,'DejaVu Sans Mono',consolas,'Courier New',monospace\">Train Loss :<span style=\"color: #008080; text-decoration-color: #008080; font-weight: bold\">0.4567</span> | Train Acc :<span style=\"color: #008080; text-decoration-color: #008080; font-weight: bold\">0.86</span> % | </pre>\n"
            ]
          },
          "metadata": {}
        },
        {
          "output_type": "display_data",
          "data": {
            "text/plain": [
              "Val Loss :\u001b[1;36m0.4551\u001b[0m | Val Acc :\u001b[1;36m0.85\u001b[0m %\n"
            ],
            "text/html": [
              "<pre style=\"white-space:pre;overflow-x:auto;line-height:normal;font-family:Menlo,'DejaVu Sans Mono',consolas,'Courier New',monospace\">Val Loss :<span style=\"color: #008080; text-decoration-color: #008080; font-weight: bold\">0.4551</span> | Val Acc :<span style=\"color: #008080; text-decoration-color: #008080; font-weight: bold\">0.85</span> %\n",
              "</pre>\n"
            ]
          },
          "metadata": {}
        },
        {
          "output_type": "display_data",
          "data": {
            "text/plain": [
              "=======================================Done\n"
            ],
            "text/html": [
              "<pre style=\"white-space:pre;overflow-x:auto;line-height:normal;font-family:Menlo,'DejaVu Sans Mono',consolas,'Courier New',monospace\">=======================================Done\n",
              "</pre>\n"
            ]
          },
          "metadata": {}
        },
        {
          "output_type": "display_data",
          "data": {
            "text/plain": [
              "EPOCH \u001b[1;36m23\u001b[0m\n"
            ],
            "text/html": [
              "<pre style=\"white-space:pre;overflow-x:auto;line-height:normal;font-family:Menlo,'DejaVu Sans Mono',consolas,'Courier New',monospace\">EPOCH <span style=\"color: #008080; text-decoration-color: #008080; font-weight: bold\">23</span>\n",
              "</pre>\n"
            ]
          },
          "metadata": {}
        },
        {
          "output_type": "display_data",
          "data": {
            "text/plain": [
              "Train Loss :\u001b[1;36m0.4440\u001b[0m | Train Acc :\u001b[1;36m0.86\u001b[0m % | "
            ],
            "text/html": [
              "<pre style=\"white-space:pre;overflow-x:auto;line-height:normal;font-family:Menlo,'DejaVu Sans Mono',consolas,'Courier New',monospace\">Train Loss :<span style=\"color: #008080; text-decoration-color: #008080; font-weight: bold\">0.4440</span> | Train Acc :<span style=\"color: #008080; text-decoration-color: #008080; font-weight: bold\">0.86</span> % | </pre>\n"
            ]
          },
          "metadata": {}
        },
        {
          "output_type": "display_data",
          "data": {
            "text/plain": [
              "Val Loss :\u001b[1;36m0.4339\u001b[0m | Val Acc :\u001b[1;36m0.86\u001b[0m %\n"
            ],
            "text/html": [
              "<pre style=\"white-space:pre;overflow-x:auto;line-height:normal;font-family:Menlo,'DejaVu Sans Mono',consolas,'Courier New',monospace\">Val Loss :<span style=\"color: #008080; text-decoration-color: #008080; font-weight: bold\">0.4339</span> | Val Acc :<span style=\"color: #008080; text-decoration-color: #008080; font-weight: bold\">0.86</span> %\n",
              "</pre>\n"
            ]
          },
          "metadata": {}
        },
        {
          "output_type": "display_data",
          "data": {
            "text/plain": [
              "=======================================Done\n"
            ],
            "text/html": [
              "<pre style=\"white-space:pre;overflow-x:auto;line-height:normal;font-family:Menlo,'DejaVu Sans Mono',consolas,'Courier New',monospace\">=======================================Done\n",
              "</pre>\n"
            ]
          },
          "metadata": {}
        },
        {
          "output_type": "display_data",
          "data": {
            "text/plain": [
              "EPOCH \u001b[1;36m24\u001b[0m\n"
            ],
            "text/html": [
              "<pre style=\"white-space:pre;overflow-x:auto;line-height:normal;font-family:Menlo,'DejaVu Sans Mono',consolas,'Courier New',monospace\">EPOCH <span style=\"color: #008080; text-decoration-color: #008080; font-weight: bold\">24</span>\n",
              "</pre>\n"
            ]
          },
          "metadata": {}
        },
        {
          "output_type": "display_data",
          "data": {
            "text/plain": [
              "Train Loss :\u001b[1;36m0.4276\u001b[0m | Train Acc :\u001b[1;36m0.86\u001b[0m % | "
            ],
            "text/html": [
              "<pre style=\"white-space:pre;overflow-x:auto;line-height:normal;font-family:Menlo,'DejaVu Sans Mono',consolas,'Courier New',monospace\">Train Loss :<span style=\"color: #008080; text-decoration-color: #008080; font-weight: bold\">0.4276</span> | Train Acc :<span style=\"color: #008080; text-decoration-color: #008080; font-weight: bold\">0.86</span> % | </pre>\n"
            ]
          },
          "metadata": {}
        },
        {
          "output_type": "display_data",
          "data": {
            "text/plain": [
              "Val Loss :\u001b[1;36m0.4505\u001b[0m | Val Acc :\u001b[1;36m0.86\u001b[0m %\n"
            ],
            "text/html": [
              "<pre style=\"white-space:pre;overflow-x:auto;line-height:normal;font-family:Menlo,'DejaVu Sans Mono',consolas,'Courier New',monospace\">Val Loss :<span style=\"color: #008080; text-decoration-color: #008080; font-weight: bold\">0.4505</span> | Val Acc :<span style=\"color: #008080; text-decoration-color: #008080; font-weight: bold\">0.86</span> %\n",
              "</pre>\n"
            ]
          },
          "metadata": {}
        },
        {
          "output_type": "display_data",
          "data": {
            "text/plain": [
              "=======================================Done\n"
            ],
            "text/html": [
              "<pre style=\"white-space:pre;overflow-x:auto;line-height:normal;font-family:Menlo,'DejaVu Sans Mono',consolas,'Courier New',monospace\">=======================================Done\n",
              "</pre>\n"
            ]
          },
          "metadata": {}
        },
        {
          "output_type": "display_data",
          "data": {
            "text/plain": [
              "EPOCH \u001b[1;36m25\u001b[0m\n"
            ],
            "text/html": [
              "<pre style=\"white-space:pre;overflow-x:auto;line-height:normal;font-family:Menlo,'DejaVu Sans Mono',consolas,'Courier New',monospace\">EPOCH <span style=\"color: #008080; text-decoration-color: #008080; font-weight: bold\">25</span>\n",
              "</pre>\n"
            ]
          },
          "metadata": {}
        },
        {
          "output_type": "display_data",
          "data": {
            "text/plain": [
              "Train Loss :\u001b[1;36m0.4280\u001b[0m | Train Acc :\u001b[1;36m0.86\u001b[0m % | "
            ],
            "text/html": [
              "<pre style=\"white-space:pre;overflow-x:auto;line-height:normal;font-family:Menlo,'DejaVu Sans Mono',consolas,'Courier New',monospace\">Train Loss :<span style=\"color: #008080; text-decoration-color: #008080; font-weight: bold\">0.4280</span> | Train Acc :<span style=\"color: #008080; text-decoration-color: #008080; font-weight: bold\">0.86</span> % | </pre>\n"
            ]
          },
          "metadata": {}
        },
        {
          "output_type": "display_data",
          "data": {
            "text/plain": [
              "Val Loss :\u001b[1;36m0.4323\u001b[0m | Val Acc :\u001b[1;36m0.86\u001b[0m %\n"
            ],
            "text/html": [
              "<pre style=\"white-space:pre;overflow-x:auto;line-height:normal;font-family:Menlo,'DejaVu Sans Mono',consolas,'Courier New',monospace\">Val Loss :<span style=\"color: #008080; text-decoration-color: #008080; font-weight: bold\">0.4323</span> | Val Acc :<span style=\"color: #008080; text-decoration-color: #008080; font-weight: bold\">0.86</span> %\n",
              "</pre>\n"
            ]
          },
          "metadata": {}
        },
        {
          "output_type": "display_data",
          "data": {
            "text/plain": [
              "=======================================Done\n"
            ],
            "text/html": [
              "<pre style=\"white-space:pre;overflow-x:auto;line-height:normal;font-family:Menlo,'DejaVu Sans Mono',consolas,'Courier New',monospace\">=======================================Done\n",
              "</pre>\n"
            ]
          },
          "metadata": {}
        }
      ]
    },
    {
      "cell_type": "markdown",
      "source": [
        "## Evaluation "
      ],
      "metadata": {
        "id": "u1wVO3S066Rt"
      }
    },
    {
      "cell_type": "code",
      "source": [
        "epochs = np.arange(25)+1\n",
        "import matplotlib.ticker as mtick\n",
        "import matplotlib.pyplot as plt\n",
        "import matplotlib.ticker as mticker\n",
        "plt.figure()\n",
        "plt.plot(epochs, train_acc, 'bo',label='Training accuracy')\n",
        "plt.plot(epochs, val_acc, 'r',label='Validation accuracy')\n",
        "plt.gca().xaxis.set_major_locator(mticker.MultipleLocator(1))\n",
        "plt.title('Training and Validation accuracy')\n",
        "plt.xlabel('Epochs')\n",
        "plt.ylabel('Accuracy')\n",
        "plt.gca().set_yticklabels(['{:.0f}%'.format(x*100) for x in plt.gca().get_yticks()])\n",
        "plt.legend()\n",
        "plt.grid('off')\n",
        "plt.show()\n"
      ],
      "metadata": {
        "colab": {
          "base_uri": "https://localhost:8080/",
          "height": 295
        },
        "id": "tUDuwhN65R5l",
        "outputId": "03c1593a-675f-4554-eb46-281d739aa40f"
      },
      "execution_count": 61,
      "outputs": [
        {
          "output_type": "display_data",
          "data": {
            "text/plain": [
              "<Figure size 432x288 with 1 Axes>"
            ],
            "image/png": "[encoded data removed]"
          },
          "metadata": {
            "needs_background": "light"
          }
        }
      ]
    },
    {
      "cell_type": "code",
      "source": [
        "epochs = np.arange(25)+1\n",
        "import matplotlib.ticker as mtick\n",
        "import matplotlib.pyplot as plt\n",
        "import matplotlib.ticker as mticker\n",
        "plt.figure()\n",
        "plt.plot(epochs, train_loss, 'bo',label='Training Loss')\n",
        "plt.plot(epochs, val_loss , 'r',label='Validation Loss')\n",
        "plt.gca().xaxis.set_major_locator(mticker.MultipleLocator(1))\n",
        "plt.title('Training and Validation accuracy')\n",
        "plt.xlabel('Epochs')\n",
        "plt.ylabel('Accuracy')\n",
        "plt.legend()\n",
        "plt.grid('off')\n",
        "plt.show()"
      ],
      "metadata": {
        "colab": {
          "base_uri": "https://localhost:8080/",
          "height": 295
        },
        "id": "_5DzE2ht_nCt",
        "outputId": "7ad9a4a2-6d2e-4775-c0d4-6db7de8b76d9"
      },
      "execution_count": 66,
      "outputs": [
        {
          "output_type": "display_data",
          "data": {
            "text/plain": [
              "<Figure size 432x288 with 1 Axes>"
            ],
            "image/png": "[encoded data removed]"
          },
          "metadata": {
            "needs_background": "light"
          }
        }
      ]
    },
    {
      "cell_type": "markdown",
      "source": [
        "---"
      ],
      "metadata": {
        "id": "v2BvDSkqPJOi"
      }
    }
  ]
}